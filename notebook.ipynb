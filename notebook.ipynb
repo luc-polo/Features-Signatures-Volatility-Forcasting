{
 "cells": [
  {
   "cell_type": "markdown",
   "metadata": {},
   "source": []
  },
  {
   "cell_type": "code",
   "execution_count": null,
   "metadata": {
    "vscode": {
     "languageId": "plaintext"
    }
   },
   "outputs": [],
   "source": [
    "# Importation des bibliothèques nécessaires\n",
    "import pandas as pd\n",
    "import numpy as np\n",
    "import matplotlib.pyplot as plt\n",
    "\n",
    "# Chargement de la série temporelle des futures WTI\n",
    "# Assurez-vous que le fichier contient des colonnes 'Timestamp' et 'Price'\n",
    "data = pd.read_csv(\"wti_futures_data.csv\", parse_dates=['Timestamp'])\n",
    "\n",
    "# Tri des données par date et heure si nécessaire\n",
    "data = data.sort_values('Timestamp').reset_index(drop=True)\n",
    "\n",
    "# Calcul de la volatilité intrajournalière (écart-type des rendements) sur des intervalles de 30 minutes\n",
    "data.set_index('Timestamp', inplace=True)\n",
    "data['Return'] = data['Price'].pct_change()  # Calcul des rendements\n",
    "\n",
    "# Resample la série temporelle par tranches de 30 minutes\n",
    "volatility_30min = data['Return'].rolling('30min').std() * np.sqrt(30)  # Annualiser si besoin\n",
    "\n",
    "# Détection des anomalies - seuil simple basé sur une déviation standard élevée (3 sigma, par exemple)\n",
    "threshold = volatility_30min.mean() + 3 * volatility_30min.std()  # Ajustable en fonction de la tolérance\n",
    "anomalies = volatility_30min[volatility_30min > threshold]\n",
    "\n",
    "# Visualisation de la volatilité et des anomalies\n",
    "plt.figure(figsize=(12, 6))\n",
    "plt.plot(volatility_30min, label=\"30-Min Volatility\")\n",
    "plt.scatter(anomalies.index, anomalies, color='red', label=\"Volatility Spikes (Anomalies)\", marker='o')\n",
    "plt.xlabel(\"Time\")\n",
    "plt.ylabel(\"Volatility\")\n",
    "plt.title(\"30-Min Volatility with Identified Spikes\")\n",
    "plt.legend()\n",
    "plt.show()\n"
   ]
  }
 ],
 "metadata": {
  "language_info": {
   "name": "python"
  }
 },
 "nbformat": 4,
 "nbformat_minor": 2
}
