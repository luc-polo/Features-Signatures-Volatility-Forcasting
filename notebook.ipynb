{
 "cells": [
  {
   "cell_type": "markdown",
   "metadata": {},
   "source": []
  },
  {
   "cell_type": "code",
   "execution_count": null,
   "metadata": {},
   "outputs": [],
   "source": [
    "# Import necessary libraries\n",
    "import pandas as pd\n",
    "import numpy as np\n",
    "import matplotlib.pyplot as plt\n",
    "\n",
    "# Load the WTI futures time series\n",
    "# Ensure the file contains 'Timestamp' and 'Price' columns\n",
    "data = pd.read_csv(\"wti_futures_data.csv\", parse_dates=['Timestamp'])\n",
    "\n",
    "# Sort the data by date and time if needed\n",
    "data = data.sort_values('Timestamp').reset_index(drop=True)\n",
    "\n",
    "# Calculate intraday volatility (standard deviation of returns) over 30-minute intervals\n",
    "data.set_index('Timestamp', inplace=True)\n",
    "data['Return'] = data['Price'].pct_change()  # Calculate returns\n",
    "\n",
    "# Resample the time series into 30-minute intervals\n",
    "volatility_30min = data['Return'].rolling('30min').std() * np.sqrt(30)  # Annualize if needed\n",
    "\n",
    "# Detect anomalies - simple threshold based on a high standard deviation (e.g., 3 sigma)\n",
    "threshold = volatility_30min.mean() + 3 * volatility_30min.std()  # Adjustable based on tolerance\n",
    "anomalies = volatility_30min[volatility_30min > threshold]\n",
    "\n",
    "# Visualize volatility and anomalies\n",
    "plt.figure(figsize=(12, 6))\n",
    "plt.plot(volatility_30min, label=\"30-Min Volatility\")\n",
    "plt.scatter(anomalies.index, anomalies, color='red', label=\"Volatility Spikes (Anomalies)\", marker='o')\n",
    "plt.xlabel(\"Time\")\n",
    "plt.ylabel(\"Volatility\")\n",
    "plt.title(\"30-Min Volatility with Identified Spikes\")\n",
    "plt.legend()\n",
    "plt.show()\n"
   ]
  }
 ],
 "metadata": {
  "kernelspec": {
   "display_name": ".venv",
   "language": "python",
   "name": "python3"
  },
  "language_info": {
   "name": "python",
   "version": "3.12.7"
  }
 },
 "nbformat": 4,
 "nbformat_minor": 2
}
