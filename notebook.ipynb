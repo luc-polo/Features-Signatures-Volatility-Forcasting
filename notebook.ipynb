{
 "cells": [
  {
   "cell_type": "markdown",
   "metadata": {},
   "source": [
    "Dowload financial data from yahoo finance"
   ]
  },
  {
   "cell_type": "code",
   "execution_count": 2,
   "metadata": {},
   "outputs": [
    {
     "name": "stderr",
     "output_type": "stream",
     "text": [
      "[*********************100%***********************]  1 of 1 completed\n"
     ]
    }
   ],
   "source": [
    "import yfinance as yf\n",
    "import pandas as pd\n",
    "import matplotlib.pyplot as plt\n",
    "\n",
    "# Define Gold Symbol on Yahoo\n",
    "gold_symbol = 'GC=F'  # Contrat à terme sur l'or\n",
    "\n",
    "# Period of data extraction\n",
    "start_date = \"2020-01-01\"\n",
    "end_date = \"2023-01-01\"\n",
    "\n",
    "# Download gold data\n",
    "gold_data = yf.download(gold_symbol, start=start_date, end=end_date)\n",
    "\n"
   ]
  },
  {
   "cell_type": "markdown",
   "metadata": {},
   "source": [
    "Selection of metrics"
   ]
  },
  {
   "cell_type": "code",
   "execution_count": null,
   "metadata": {},
   "outputs": [],
   "source": [
    "# Ajouter des métriques supplémentaires\n",
    "gold_data['Daily Returns'] = gold_data['Close'].pct_change()  # Variation journalière\n",
    "gold_data['Volume'] = gold_data['Volume']  # Volume de trading\n",
    "gold_data['Moving Average (20 days)'] = gold_data['Close'].rolling(window=20).mean()  # Moyenne mobile sur 20 jours\n",
    "\n",
    "# Garder uniquement les colonnes nécessaires\n",
    "gold_data = gold_data[['Close', 'Daily Returns', 'Volume', 'Moving Average (20 days)']]\n",
    "\n",
    "# Afficher un aperçu des données\n",
    "print(gold_data.head())\n",
    "\n"
   ]
  },
  {
   "cell_type": "markdown",
   "metadata": {},
   "source": [
    "Missing data imputation and download it in a csv file"
   ]
  },
  {
   "cell_type": "code",
   "execution_count": null,
   "metadata": {},
   "outputs": [],
   "source": [
    "# Vérifier les valeurs manquantes\n",
    "print(\"\\nValeurs manquantes :\\n\", gold_data.isnull().sum())\n",
    "\n",
    "# Remplir les valeurs manquantes (si nécessaire)\n",
    "gold_data.fillna(method='ffill', inplace=True)\n",
    "\n",
    "# Enregistrer les données dans un fichier CSV\n",
    "gold_data.to_csv('gold_data_metrics.csv')"
   ]
  },
  {
   "cell_type": "markdown",
   "metadata": {},
   "source": [
    "Visualize our data"
   ]
  },
  {
   "cell_type": "code",
   "execution_count": null,
   "metadata": {},
   "outputs": [],
   "source": [
    "# Visualiser les données\n",
    "plt.figure(figsize=(10, 6))\n",
    "plt.plot(gold_data['Close'], label='Gold Price')\n",
    "plt.plot(gold_data['Moving Average (20 days)'], label='20-day Moving Average')\n",
    "plt.title('Prix de l\\'or avec Moyenne Mobile')\n",
    "plt.xlabel('Date')\n",
    "plt.ylabel('Prix ($)')\n",
    "plt.legend()\n",
    "plt.show()\n",
    "\n",
    "# Visualisation des rendements journaliers\n",
    "plt.figure(figsize=(10, 6))\n",
    "plt.plot(gold_data['Daily Returns'], label='Daily Returns', alpha=0.7)\n",
    "plt.title('Variation journalière du prix de l\\'or')\n",
    "plt.xlabel('Date')\n",
    "plt.ylabel('Variation (%)')\n",
    "plt.legend()\n",
    "plt.show()\n",
    "\n",
    "# Visualisation du volume\n",
    "plt.figure(figsize=(10, 6))\n",
    "plt.plot(gold_data['Volume'], label='Volume de Trading', alpha=0.7)\n",
    "plt.title('Volume de trading de l\\'or')\n",
    "plt.xlabel('Date')\n",
    "plt.ylabel('Volume')\n",
    "plt.legend()\n",
    "plt.show()\n"
   ]
  }
 ],
 "metadata": {
  "kernelspec": {
   "display_name": "env",
   "language": "python",
   "name": "python3"
  },
  "language_info": {
   "codemirror_mode": {
    "name": "ipython",
    "version": 3
   },
   "file_extension": ".py",
   "mimetype": "text/x-python",
   "name": "python",
   "nbconvert_exporter": "python",
   "pygments_lexer": "ipython3",
   "version": "3.12.7"
  }
 },
 "nbformat": 4,
 "nbformat_minor": 2
}
